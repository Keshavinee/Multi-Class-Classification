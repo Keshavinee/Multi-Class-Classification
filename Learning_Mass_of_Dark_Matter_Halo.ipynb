{
  "nbformat": 4,
  "nbformat_minor": 0,
  "metadata": {
    "colab": {
      "provenance": []
    },
    "kernelspec": {
      "name": "python3",
      "display_name": "Python 3"
    },
    "language_info": {
      "name": "python"
    },
    "accelerator": "GPU",
    "gpuClass": "standard"
  },
  "cells": [
    {
      "cell_type": "code",
      "execution_count": 1,
      "metadata": {
        "colab": {
          "base_uri": "https://localhost:8080/"
        },
        "id": "fEwxIVv32Teu",
        "outputId": "7216fe43-cd8a-45e8-e2cd-2f25a3065631"
      },
      "outputs": [
        {
          "output_type": "stream",
          "name": "stdout",
          "text": [
            "Mounted at /content/drive\n"
          ]
        }
      ],
      "source": [
        "from google.colab import drive\n",
        "drive.mount('/content/drive')"
      ]
    },
    {
      "cell_type": "code",
      "source": [
        "!tar -xvzf '/content/drive/MyDrive/lens_data_alt.tgz'"
      ],
      "metadata": {
        "id": "MG8JosfE3euQ"
      },
      "execution_count": null,
      "outputs": []
    },
    {
      "cell_type": "code",
      "source": [
        "from keras.models import Sequential\n",
        "from keras.layers import Dense, Conv2D, MaxPooling2D, Flatten\n",
        "from keras.optimizers import Adam\n",
        "from sklearn.model_selection import train_test_split\n",
        "import tensorflow as tf"
      ],
      "metadata": {
        "id": "D2CzIM1X6AE_"
      },
      "execution_count": 2,
      "outputs": []
    },
    {
      "cell_type": "code",
      "source": [
        "import numpy as np\n",
        "import glob\n",
        "from sklearn.model_selection import train_test_split\n",
        "\n",
        "def load(lst):\n",
        "  data = []\n",
        "  for npy_file in lst:\n",
        "      npy_data = np.load(npy_file,allow_pickle=True)\n",
        "      data.append(npy_data)\n",
        "  return data\n",
        "\n",
        "# Load the data\n",
        "images_list = glob.glob('/content/lens_data/*.npy')\n",
        "images = load(images_list)\n",
        "len(images)"
      ],
      "metadata": {
        "colab": {
          "base_uri": "https://localhost:8080/"
        },
        "id": "5elK0oZ66BR1",
        "outputId": "f7432110-03b2-4877-a01a-b7ff45d46d1d"
      },
      "execution_count": 3,
      "outputs": [
        {
          "output_type": "execute_result",
          "data": {
            "text/plain": [
              "20000"
            ]
          },
          "metadata": {},
          "execution_count": 3
        }
      ]
    },
    {
      "cell_type": "code",
      "source": [
        "# Separate features and labels\n",
        "X, y = [], []\n",
        "for i in range(len(images)):\n",
        "    X.append(images[i][0][:-1])  # Append image arrays to X\n",
        "    y.append(images[i][0][-1])  # Append label arrays to y\n",
        "\n",
        "X = X[:3000] # considering only 3000 images\n",
        "y = y[:3000]\n",
        "\n",
        "X = np.array(X)\n",
        "y = np.array(y)\n",
        "\n",
        "# Split the data into training and testing sets\n",
        "X_train, X_test, y_train, y_test = train_test_split(X, y, test_size=0.1, random_state=42)"
      ],
      "metadata": {
        "id": "kn_OqWOnQcmn"
      },
      "execution_count": 25,
      "outputs": []
    },
    {
      "cell_type": "code",
      "source": [
        "X_train = np.reshape(X_train, (X_train.shape[0], X_train.shape[1], X_train.shape[2], 1))"
      ],
      "metadata": {
        "id": "1oBWuLpL0Ldc"
      },
      "execution_count": 27,
      "outputs": []
    },
    {
      "cell_type": "code",
      "source": [
        "# Define the model architecture\n",
        "model = Sequential()\n",
        "model.add(Conv2D(32, (3, 3), activation='relu',input_shape=X_train.shape[1:])) #X_train.shape[1:]\n",
        "model.add(MaxPooling2D((2, 2)))\n",
        "model.add(Conv2D(64, (3, 3), activation='relu'))\n",
        "model.add(MaxPooling2D((2, 2)))\n",
        "model.add(Conv2D(128, (3, 3), activation='relu'))\n",
        "model.add(MaxPooling2D((2, 2)))\n",
        "model.add(Flatten())\n",
        "model.add(Dense(64, activation='relu'))\n",
        "model.add(Dense(1))"
      ],
      "metadata": {
        "id": "isbWZZbIUg4b"
      },
      "execution_count": 10,
      "outputs": []
    },
    {
      "cell_type": "code",
      "source": [
        "# Compile the model\n",
        "model.compile(optimizer=Adam(lr=0.001), loss='mean_squared_error')\n",
        "\n",
        "# Train the model\n",
        "model.fit(X_train, y_train, batch_size=32, epochs=25)\n",
        "\n",
        "# Save the trained model\n",
        "model.save('lensing_model.h5')"
      ],
      "metadata": {
        "colab": {
          "base_uri": "https://localhost:8080/"
        },
        "id": "0tPyeCJAU3gu",
        "outputId": "2341b546-92d7-4225-8c13-811c7421f180"
      },
      "execution_count": 26,
      "outputs": [
        {
          "output_type": "stream",
          "name": "stderr",
          "text": [
            "/usr/local/lib/python3.9/dist-packages/keras/optimizers/legacy/adam.py:117: UserWarning: The `lr` argument is deprecated, use `learning_rate` instead.\n",
            "  super().__init__(name, **kwargs)\n"
          ]
        },
        {
          "output_type": "stream",
          "name": "stdout",
          "text": [
            "Epoch 1/25\n",
            "85/85 [==============================] - 2s 21ms/step - loss: 39.9414\n",
            "Epoch 2/25\n",
            "85/85 [==============================] - 2s 20ms/step - loss: 30.7649\n",
            "Epoch 3/25\n",
            "85/85 [==============================] - 2s 21ms/step - loss: 30.5522\n",
            "Epoch 4/25\n",
            "85/85 [==============================] - 2s 21ms/step - loss: 30.4610\n",
            "Epoch 5/25\n",
            "85/85 [==============================] - 2s 21ms/step - loss: 30.3848\n",
            "Epoch 6/25\n",
            "85/85 [==============================] - 2s 20ms/step - loss: 30.3681\n",
            "Epoch 7/25\n",
            "85/85 [==============================] - 2s 20ms/step - loss: 30.4114\n",
            "Epoch 8/25\n",
            "85/85 [==============================] - 2s 20ms/step - loss: 30.3515\n",
            "Epoch 9/25\n",
            "85/85 [==============================] - 2s 20ms/step - loss: 30.3339\n",
            "Epoch 10/25\n",
            "85/85 [==============================] - 2s 20ms/step - loss: 30.4010\n",
            "Epoch 11/25\n",
            "85/85 [==============================] - 2s 21ms/step - loss: 30.4255\n",
            "Epoch 12/25\n",
            "85/85 [==============================] - 2s 21ms/step - loss: 30.4228\n",
            "Epoch 13/25\n",
            "85/85 [==============================] - 2s 21ms/step - loss: 30.3442\n",
            "Epoch 14/25\n",
            "85/85 [==============================] - 2s 20ms/step - loss: 30.3399\n",
            "Epoch 15/25\n",
            "85/85 [==============================] - 2s 20ms/step - loss: 30.3138\n",
            "Epoch 16/25\n",
            "85/85 [==============================] - 2s 20ms/step - loss: 30.3989\n",
            "Epoch 17/25\n",
            "85/85 [==============================] - 2s 20ms/step - loss: 32.6166\n",
            "Epoch 18/25\n",
            "85/85 [==============================] - 2s 20ms/step - loss: 30.5192\n",
            "Epoch 19/25\n",
            "85/85 [==============================] - 2s 21ms/step - loss: 30.2957\n",
            "Epoch 20/25\n",
            "85/85 [==============================] - 2s 23ms/step - loss: 30.3710\n",
            "Epoch 21/25\n",
            "85/85 [==============================] - 2s 24ms/step - loss: 30.2757\n",
            "Epoch 22/25\n",
            "85/85 [==============================] - 2s 20ms/step - loss: 30.9363\n",
            "Epoch 23/25\n",
            "85/85 [==============================] - 2s 20ms/step - loss: 30.2514\n",
            "Epoch 24/25\n",
            "85/85 [==============================] - 2s 20ms/step - loss: 30.3376\n",
            "Epoch 25/25\n",
            "85/85 [==============================] - 2s 20ms/step - loss: 30.2419\n"
          ]
        }
      ]
    },
    {
      "cell_type": "code",
      "source": [
        "# Evaluate the model on the test set\n",
        "mse = model.evaluate(X_test, y_test)\n",
        "print('Test MSE:', mse)"
      ],
      "metadata": {
        "colab": {
          "base_uri": "https://localhost:8080/"
        },
        "id": "Bhu-rrBoU6BU",
        "outputId": "77cb5b64-7345-46cf-83d7-6dcc1dc920a3"
      },
      "execution_count": 28,
      "outputs": [
        {
          "output_type": "stream",
          "name": "stdout",
          "text": [
            "10/10 [==============================] - 0s 10ms/step - loss: 30.2245\n",
            "Test MSE: 30.22445297241211\n"
          ]
        }
      ]
    }
  ]
}